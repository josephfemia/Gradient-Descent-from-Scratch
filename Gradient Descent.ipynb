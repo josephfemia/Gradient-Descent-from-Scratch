{
 "cells": [
  {
   "cell_type": "code",
   "execution_count": 1,
   "id": "cedf7049-a00b-4a69-b5ee-61a2bbc4f805",
   "metadata": {},
   "outputs": [],
   "source": [
    "import numpy as np"
   ]
  },
  {
   "cell_type": "code",
   "execution_count": 2,
   "id": "db1c2393-ef7e-46d0-90d0-0e85a25d9f41",
   "metadata": {},
   "outputs": [],
   "source": [
    "# Hyperparameters - Think of these as tuning knobs\n",
    "# learning_rate = This controls how much we descend on each iteration, too fast we don't converge, too slow and we get stuck in a local minima\n",
    "# epochs = This is how many iterations we will allow our model to train on the full training dataset\n",
    "# N = This is the number of samples in our training data\n",
    "learning_rate = 0.01\n",
    "epochs = 500\n",
    "N = 10\n",
    "\n",
    "# Random Variable Creation\n",
    "x = np.random.rand(N,)\n",
    "w = np.random.rand(1)\n",
    "b = np.random.rand(1)\n",
    "y = w*x + b\n",
    "\n",
    "w_pred = 0.0  # <-- These two init values for w and b are used as the starting \"guesses\" for there values,\n",
    "b_pred = 0.0  #     when doing gradient descent we should slowly migrate away from 0.0 and migrate towards their true values"
   ]
  },
  {
   "cell_type": "code",
   "execution_count": 3,
   "id": "b83bd623-7d26-47a4-abf2-75439cafcb5d",
   "metadata": {},
   "outputs": [],
   "source": [
    "# Gradient Descent for Linear Regression\n",
    "# y_pred = wx + b\n",
    "# loss = (y_true-y_pred)**2 / N   <-- MSE Loss Function\n",
    "# loss = (y_true-(wx+b))**2 / N\n",
    "# Now we take the derivate of loss with respect to w and b\n",
    "\n",
    "def calculate_gradients(x_data, y_data, w, b, learning_rate, N):\n",
    "    # Zero out the gradients\n",
    "    dl_dw = 0.0\n",
    "    dl_db = 0.0    \n",
    "    \n",
    "    # Now we loop through all of the training data and for each datapoint (each x and y pair), \n",
    "    # we calculate the sum of the gradients with respect to w and b\n",
    "    for x, y_true in zip(x_data, y_data):\n",
    "        dl_dw += (2/N)*(y_true-(w*x+b))*(-x)  # These derivatives are calculated using the chain rule\n",
    "        dl_db += (2/N)*(y_true-(w*x+b))*(-1)\n",
    "    \n",
    "    # Update the parameters\n",
    "    # The reason we do the parameter minus the learning rate * the gradient rather than the parameter plus the learning rate * the gradient\n",
    "    # is because when we calculate the gradient, the value of the gradient provides the direction for the steepest rise of the curve, so by doing\n",
    "    # a negative gradient, we invert the direction so we move move the parameters in the steepest descent because we want to minimize the parameters\n",
    "    # that make up the loss function.\n",
    "    w = w - dl_dw*learning_rate\n",
    "    b = b - dl_db*learning_rate\n",
    "    return w, b"
   ]
  },
  {
   "cell_type": "code",
   "execution_count": 4,
   "id": "cc7a5c39-e444-41ac-8df4-2dce0f80fbbb",
   "metadata": {},
   "outputs": [
    {
     "name": "stdout",
     "output_type": "stream",
     "text": [
      "Epoch: 0 -- Loss: 0.5611210401156657\n",
      "Epoch: 50 -- Loss: 0.04560257093629283\n",
      "Epoch: 100 -- Loss: 0.004656157898502693\n",
      "Epoch: 150 -- Loss: 0.0012337146331380861\n",
      "Epoch: 200 -- Loss: 0.0008086758099996045\n",
      "Epoch: 250 -- Loss: 0.0006480255679699843\n",
      "Epoch: 300 -- Loss: 0.0005309633590740321\n",
      "Epoch: 350 -- Loss: 0.00043599278452311407\n",
      "Epoch: 400 -- Loss: 0.0003580839063620629\n",
      "Epoch: 450 -- Loss: 0.000294102713545505\n",
      "Converged w: 0.394434903360037 -- Actual w: [0.43831717]\n",
      "Converged b: 0.5665055819784126 -- Actual b: [0.54325005]\n"
     ]
    }
   ],
   "source": [
    "for epoch in range(epochs):\n",
    "    w_pred, b_pred = calculate_gradients(x, y, w_pred, b_pred, learning_rate, N)\n",
    "    \n",
    "    if epoch % 50 == 0:\n",
    "        y_pred = w_pred*x + b_pred\n",
    "        loss = (y-y_pred)**2 / N\n",
    "        print(f'Epoch: {epoch} -- Loss: {np.sum(loss, axis=0)}')\n",
    "    \n",
    "print(f'Converged w: {w_pred} -- Actual w: {w}')\n",
    "print(f'Converged b: {b_pred} -- Actual b: {b}')"
   ]
  },
  {
   "cell_type": "code",
   "execution_count": null,
   "id": "319fbd34-8879-4cbc-bfeb-a71817181c88",
   "metadata": {},
   "outputs": [],
   "source": []
  }
 ],
 "metadata": {
  "kernelspec": {
   "display_name": "Python 3 (ipykernel)",
   "language": "python",
   "name": "python3"
  },
  "language_info": {
   "codemirror_mode": {
    "name": "ipython",
    "version": 3
   },
   "file_extension": ".py",
   "mimetype": "text/x-python",
   "name": "python",
   "nbconvert_exporter": "python",
   "pygments_lexer": "ipython3",
   "version": "3.8.12"
  }
 },
 "nbformat": 4,
 "nbformat_minor": 5
}
